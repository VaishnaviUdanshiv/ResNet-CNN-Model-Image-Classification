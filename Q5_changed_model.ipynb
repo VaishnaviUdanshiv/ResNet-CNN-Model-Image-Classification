{
  "cells": [
    {
      "cell_type": "code",
      "execution_count": 2,
      "metadata": {
        "id": "GHjevDnQ8MvT"
      },
      "outputs": [],
      "source": [
        "import os\n",
        "import numpy as np\n",
        "import glob\n",
        "import shutil\n",
        "import tensorflow as tf\n",
        "import matplotlib.pyplot as plt\n",
        "from tensorflow.keras.preprocessing.image import ImageDataGenerator\n",
        "from tensorflow.keras.layers import Input, Conv2D, BatchNormalization, MaxPooling2D, Flatten, Dense, Add, Activation\n",
        "from tensorflow.keras.layers import MaxPooling2D, Dropout\n",
        "from tensorflow.keras.models import Model\n",
        "from tensorflow.keras.optimizers import Adam\n",
        "from tensorflow.keras.callbacks import EarlyStopping, ModelCheckpoint"
      ]
    },
    {
      "cell_type": "code",
      "execution_count": 3,
      "metadata": {
        "colab": {
          "base_uri": "https://localhost:8080/"
        },
        "id": "TWLrEx3c8Pxp",
        "outputId": "211e65ab-301a-4d9f-d1b2-8197a66b1889"
      },
      "outputs": [
        {
          "output_type": "stream",
          "name": "stdout",
          "text": [
            "Mounted at /content/drive\n"
          ]
        }
      ],
      "source": [
        "from google.colab import drive\n",
        "drive.mount('/content/drive')"
      ]
    },
    {
      "cell_type": "code",
      "execution_count": 4,
      "metadata": {
        "colab": {
          "base_uri": "https://localhost:8080/"
        },
        "id": "g-iTnxzI8VNE",
        "outputId": "67ed5396-d2d0-4f76-abc9-ff6f4bb4ea74"
      },
      "outputs": [
        {
          "output_type": "stream",
          "name": "stdout",
          "text": [
            "dyed-lifted-polyps: 0 Images\n",
            "dyed-resection-margins: 0 Images\n",
            "esophagitis: 0 Images\n",
            "normal-cecum: 0 Images\n",
            "normal-pylorus: 0 Images\n",
            "normal-z-line: 0 Images\n",
            "polyps: 0 Images\n",
            "ulcerative-colitis: 0 Images\n"
          ]
        }
      ],
      "source": [
        "np.random.seed(406)\n",
        "\n",
        "base_dir = \"/content/drive/My Drive/kvasir-dataset-v2\"\n",
        "classes = ['dyed-lifted-polyps',           'dyed-resection-margins',           'esophagitis',           'normal-cecum',           'normal-pylorus',           'normal-z-line',           'polyps',           'ulcerative-colitis']\n",
        "\n",
        "for cl in classes:\n",
        "    \n",
        "    img_path = os.path.join(base_dir, cl)\n",
        "    images = glob.glob(img_path + '/*.jpg')\n",
        "    print(\"{}: {} Images\".format(cl, len(images)))\n",
        "    \n",
        "    np.random.shuffle(images)    # Shuffle the images randomly\n",
        "    \n",
        "    train_list, val_list, test_list = images[:round(len(images)*0.7)], images[round(len(images)*0.7):round(len(images)*0.85)], images[round(len(images)*0.85):]\n",
        "\n",
        "    for image in train_list:\n",
        "        if not os.path.exists(os.path.join(base_dir, 'train', cl)):\n",
        "            os.makedirs(os.path.join(base_dir, 'train', cl))\n",
        "        shutil.move(image, os.path.join(base_dir, 'train', cl))\n",
        "\n",
        "    for image in val_list:\n",
        "        if not os.path.exists(os.path.join(base_dir, 'val', cl)):\n",
        "            os.makedirs(os.path.join(base_dir, 'val', cl))\n",
        "        shutil.move(image, os.path.join(base_dir, 'val', cl))\n",
        "        \n",
        "    for image in test_list:\n",
        "        if not os.path.exists(os.path.join(base_dir, 'test', cl)):\n",
        "            os.makedirs(os.path.join(base_dir, 'test', cl))\n",
        "        shutil.move(image, os.path.join(base_dir, 'test', cl))\n"
      ]
    },
    {
      "cell_type": "markdown",
      "metadata": {
        "id": "wBi2FjNngD96"
      },
      "source": [
        "Changing the model"
      ]
    },
    {
      "cell_type": "code",
      "execution_count": 5,
      "metadata": {
        "id": "F_1UGURlfxdK",
        "colab": {
          "base_uri": "https://localhost:8080/"
        },
        "outputId": "afc0f938-bfd0-402d-b9e3-8502ce09a845"
      },
      "outputs": [
        {
          "output_type": "stream",
          "name": "stdout",
          "text": [
            "Found 5608 images belonging to 8 classes.\n",
            "Found 1202 images belonging to 8 classes.\n",
            "Epoch 1/3\n",
            "175/175 [==============================] - 1860s 11s/step - loss: 1.1360 - accuracy: 0.5115 - val_loss: 0.7378 - val_accuracy: 0.6824\n",
            "Epoch 2/3\n",
            "175/175 [==============================] - 568s 3s/step - loss: 0.7901 - accuracy: 0.6309 - val_loss: 0.7730 - val_accuracy: 0.6613\n",
            "Epoch 3/3\n",
            "175/175 [==============================] - 569s 3s/step - loss: 0.7386 - accuracy: 0.6628 - val_loss: 0.6211 - val_accuracy: 0.7264\n",
            "38/38 [==============================] - 40s 1s/step - loss: 0.6195 - accuracy: 0.7255\n",
            "Test Loss: 0.6195\n",
            "Test Accuracy: 0.7255\n"
          ]
        }
      ],
      "source": [
        "input_shape = (224, 224, 3)\n",
        "num_classes = len(classes)\n",
        "\n",
        "input_layer = Input(shape=input_shape)\n",
        "\n",
        "x = Conv2D(32, (3, 3), activation='relu')(input_layer)\n",
        "x = MaxPooling2D(pool_size=(2, 2))(x)\n",
        "x = Conv2D(64, (3, 3), activation='relu')(x)\n",
        "x = MaxPooling2D(pool_size=(2, 2))(x)\n",
        "x = Conv2D(128, (3, 3), activation='relu')(x)\n",
        "x = MaxPooling2D(pool_size=(2, 2))(x)\n",
        "x = Flatten()(x)\n",
        "x = Dense(256, activation='relu')(x)\n",
        "x = Dropout(0.5)(x)\n",
        "output = Dense(num_classes, activation='softmax')(x)\n",
        "\n",
        "model = Model(inputs=input_layer, outputs=output)\n",
        "\n",
        "model.compile(optimizer=Adam(), loss='categorical_crossentropy', metrics=['accuracy'])\n",
        "\n",
        "train_data_generator = ImageDataGenerator(\n",
        "    rescale=1.0/255.0,\n",
        "    shear_range=0.2,\n",
        "    zoom_range=0.2,\n",
        "    horizontal_flip=True\n",
        ")\n",
        "test_data_generator = ImageDataGenerator(rescale=1.0/255.0)\n",
        "\n",
        "batch_size = 32\n",
        "train_dir = os.path.join(base_dir, 'train')\n",
        "test_dir = os.path.join(base_dir, 'test')\n",
        "\n",
        "train_data = train_data_generator.flow_from_directory(\n",
        "    train_dir,\n",
        "    target_size=input_shape[:2],\n",
        "    batch_size=batch_size,\n",
        "    class_mode='categorical'\n",
        ")\n",
        "test_data = test_data_generator.flow_from_directory(\n",
        "    test_dir,\n",
        "    target_size=input_shape[:2],\n",
        "    batch_size=batch_size,\n",
        "    class_mode='categorical'\n",
        ")\n",
        "\n",
        "epochs = 3\n",
        "\n",
        "early_stopping = EarlyStopping(patience=3, restore_best_weights=True)\n",
        "model_checkpoint = ModelCheckpoint('best_model.h5', save_best_only=True)\n",
        "\n",
        "history = model.fit(\n",
        "    train_data,\n",
        "    steps_per_epoch=train_data.samples // batch_size,\n",
        "    epochs=epochs,\n",
        "    validation_data=test_data,\n",
        "    validation_steps=test_data.samples // batch_size,\n",
        "    callbacks=[early_stopping, model_checkpoint]\n",
        ")\n",
        "\n",
        "loss, accuracy = model.evaluate(test_data)\n",
        "\n",
        "print(f'Test Loss: {loss:.4f}')\n",
        "print(f'Test Accuracy: {accuracy:.4f}')\n"
      ]
    }
  ],
  "metadata": {
    "colab": {
      "provenance": []
    },
    "kernelspec": {
      "display_name": "Python 3",
      "name": "python3"
    },
    "language_info": {
      "name": "python"
    }
  },
  "nbformat": 4,
  "nbformat_minor": 0
}