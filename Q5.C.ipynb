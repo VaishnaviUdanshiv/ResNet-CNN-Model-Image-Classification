{
  "nbformat": 4,
  "nbformat_minor": 0,
  "metadata": {
    "colab": {
      "provenance": []
    },
    "kernelspec": {
      "name": "python3",
      "display_name": "Python 3"
    },
    "language_info": {
      "name": "python"
    }
  },
  "cells": [
    {
      "cell_type": "code",
      "execution_count": 1,
      "metadata": {
        "id": "CD6PcX9xBiX2"
      },
      "outputs": [],
      "source": [
        "import os\n",
        "import numpy as np\n",
        "import glob\n",
        "import shutil\n",
        "import tensorflow as tf\n",
        "import matplotlib.pyplot as plt\n",
        "from tensorflow.keras.models import Model\n",
        "from tensorflow.keras.preprocessing.image import ImageDataGenerator\n",
        "from tensorflow.keras.layers import Input, Conv2D, BatchNormalization, MaxPooling2D, Flatten, Dense, Add, Activation\n",
        "from tensorflow.keras.layers import  Dropout\n",
        "from tensorflow.keras.optimizers import Adam\n",
        "from tensorflow.keras.callbacks import EarlyStopping, ModelCheckpoint\n",
        "from tensorflow.keras import backend as K"
      ]
    },
    {
      "cell_type": "code",
      "source": [
        "from google.colab import drive\n",
        "drive.mount('/content/drive')"
      ],
      "metadata": {
        "colab": {
          "base_uri": "https://localhost:8080/"
        },
        "id": "FxFIJ_hNBmcE",
        "outputId": "1c5fdb21-d967-4073-ef6d-a2b47885497c"
      },
      "execution_count": 2,
      "outputs": [
        {
          "output_type": "stream",
          "name": "stdout",
          "text": [
            "Drive already mounted at /content/drive; to attempt to forcibly remount, call drive.mount(\"/content/drive\", force_remount=True).\n"
          ]
        }
      ]
    },
    {
      "cell_type": "code",
      "source": [
        "np.random.seed(406)\n",
        "\n",
        "base_dir = \"/content/drive/My Drive/kvasir-dataset-v2\"\n",
        "classes = ['dyed-lifted-polyps',           'dyed-resection-margins',           'esophagitis',           'normal-cecum',           'normal-pylorus',           'normal-z-line',           'polyps',           'ulcerative-colitis']\n",
        "\n",
        "for cl in classes:\n",
        "    \n",
        "    img_path = os.path.join(base_dir, cl)\n",
        "    images = glob.glob(img_path + '/*.jpg')\n",
        "    print(\"{}: {} Images\".format(cl, len(images)))\n",
        "    \n",
        "    np.random.shuffle(images)    # Shuffle the images randomly\n",
        "    \n",
        "    train_list, val_list, test_list = images[:round(len(images)*0.7)], images[round(len(images)*0.7):round(len(images)*0.85)], images[round(len(images)*0.85):]\n",
        "\n",
        "    for image in train_list:\n",
        "        if not os.path.exists(os.path.join(base_dir, 'train', cl)):\n",
        "            os.makedirs(os.path.join(base_dir, 'train', cl))\n",
        "        shutil.move(image, os.path.join(base_dir, 'train', cl))\n",
        "\n",
        "    for image in val_list:\n",
        "        if not os.path.exists(os.path.join(base_dir, 'val', cl)):\n",
        "            os.makedirs(os.path.join(base_dir, 'val', cl))\n",
        "        shutil.move(image, os.path.join(base_dir, 'val', cl))\n",
        "        \n",
        "    for image in test_list:\n",
        "        if not os.path.exists(os.path.join(base_dir, 'test', cl)):\n",
        "            os.makedirs(os.path.join(base_dir, 'test', cl))\n",
        "        shutil.move(image, os.path.join(base_dir, 'test', cl))\n"
      ],
      "metadata": {
        "colab": {
          "base_uri": "https://localhost:8080/"
        },
        "id": "scAi5NYLBwsE",
        "outputId": "65b6bc37-3336-44d7-b340-bbd913a6d04c"
      },
      "execution_count": 3,
      "outputs": [
        {
          "output_type": "stream",
          "name": "stdout",
          "text": [
            "dyed-lifted-polyps: 0 Images\n",
            "dyed-resection-margins: 0 Images\n",
            "esophagitis: 0 Images\n",
            "normal-cecum: 0 Images\n",
            "normal-pylorus: 0 Images\n",
            "normal-z-line: 0 Images\n",
            "polyps: 0 Images\n",
            "ulcerative-colitis: 0 Images\n"
          ]
        }
      ]
    },
    {
      "cell_type": "code",
      "source": [
        "input_shape = (224, 224, 3)\n",
        "num_classes = len(classes)\n",
        "\n",
        "input_layer = Input(shape=input_shape)\n",
        "\n",
        "x = Conv2D(32, (3, 3), activation='relu')(input_layer)\n",
        "x = MaxPooling2D(pool_size=(2, 2))(x)\n",
        "x = Conv2D(64, (3, 3), activation='relu')(x)\n",
        "x = MaxPooling2D(pool_size=(2, 2))(x)\n",
        "x = Conv2D(128, (3, 3), activation='relu')(x)\n",
        "x = MaxPooling2D(pool_size=(2, 2))(x)\n",
        "x = Flatten()(x)\n",
        "x = Dense(256, activation='relu')(x)\n",
        "x = Dropout(0.5)(x)\n",
        "output = Dense(num_classes, activation='softmax')(x)\n",
        "\n",
        "model = Model(inputs=input_layer, outputs=output)\n",
        "\n",
        "model.compile(optimizer=Adam(), loss='categorical_crossentropy', metrics=['accuracy'])\n",
        "\n",
        "def mixup_data(x, y, alpha=0.2):\n",
        "    x = np.array(x)  # Convert x to array\n",
        "    y = np.array(y)  # Convert y to array\n",
        "    \n",
        "    batch_size = x.shape[0]\n",
        "    lam = np.random.beta(alpha, alpha, batch_size)\n",
        "    index = np.random.permutation(batch_size)\n",
        "    mixed_x = lam.reshape(batch_size, 1, 1, 1) * x + (1 - lam).reshape(batch_size, 1, 1, 1) * x[index, :]\n",
        "    mixed_y = lam.reshape(batch_size, 1) * y + (1 - lam).reshape(batch_size, 1) * y[index, :]\n",
        "    \n",
        "    return mixed_x, mixed_y\n",
        "\n",
        "def cutmix_data(x, y, alpha=1.0):\n",
        "    batch_size = x.shape[0]\n",
        "    lam = np.random.beta(alpha, alpha, batch_size)\n",
        "    index = np.random.permutation(batch_size)\n",
        "    bbx1, bby1, bbx2, bby2 = get_random_bbox(x.shape[1], x.shape[2], lam)\n",
        "    mixed_x = x.copy()\n",
        "    mixed_x[:, bbx1:bbx2, bby1:bby2, :] = x[index, bbx1:bbx2, bby1:bby2, :]\n",
        "    lam = 1 - ((bbx2 - bbx1) * (bby2 - bby1) / (x.shape[1] * x.shape[2]))\n",
        "    mixed_y = lam * y + (1 - lam) * y[index, :]\n",
        "    return mixed_x, mixed_y\n",
        "\n",
        "def get_random_bbox(width, height, lam):\n",
        "    cut_rat = np.sqrt(1.0 - lam)\n",
        "    cut_w = np.int(width * cut_rat)\n",
        "    cut_h = np.int(height * cut_rat)\n",
        "    cx = np.random.randint(width)\n",
        "    cy = np.random.randint(height)\n",
        "    bbx1 = np.clip(cx - cut_w // 2, 0, width)\n",
        "    bby1 = np.clip(cy - cut_h // 2, 0, height)\n",
        "    bbx2 = np.clip(cx + cut_w // 2, 0, width)\n",
        "    bby2 = np.clip(cy + cut_h // 2, 0, height)\n",
        "    return bbx1, bby1, bbx2, bby2\n",
        "\n",
        "def mixup_loss(y_true, y_pred):\n",
        "    lam = K.variable(1.0)\n",
        "    return lam * K.categorical_crossentropy(y_true, y_pred) + (1 - lam) * K.categorical_crossentropy(y_true[::-1], y_pred[::-1])\n",
        "\n",
        "train_data_generator = ImageDataGenerator(\n",
        "    rescale=1.0/255.0,\n",
        "    shear_range=0.2,\n",
        "    zoom_range=0.2,\n",
        "    horizontal_flip=True,\n",
        "    preprocessing_function=lambda x: x * 1.0  # Convert x to a numerical array\n",
        ")\n",
        "test_data_generator = ImageDataGenerator(rescale=1.0/255.0)\n",
        "\n",
        "\n",
        "batch_size = 32\n",
        "train_dir = os.path.join(base_dir, 'train')\n",
        "test_dir = os.path.join(base_dir, 'test')\n",
        "\n",
        "train_data = train_data_generator.flow_from_directory(\n",
        "    train_dir,\n",
        "    target_size=input_shape[:2],\n",
        "    batch_size=batch_size,\n",
        "    class_mode='categorical'\n",
        ")\n",
        "test_data = test_data_generator.flow_from_directory(\n",
        "    test_dir,\n",
        "    target_size=input_shape[:2],\n",
        "    batch_size=batch_size,\n",
        "    class_mode='categorical'\n",
        ")\n",
        "\n",
        "epochs = 3\n",
        "\n",
        "early_stopping = EarlyStopping(patience=3, restore_best_weights=True)\n",
        "model_checkpoint = ModelCheckpoint('best_model.h5', save_best_only=True)\n",
        "\n",
        "history = model.fit(\n",
        "    train_data,\n",
        "    steps_per_epoch=train_data.samples // batch_size,\n",
        "    epochs=epochs,\n",
        "    validation_data=test_data,\n",
        "    validation_steps=test_data.samples // batch_size,\n",
        "    callbacks=[early_stopping, model_checkpoint]\n",
        ")\n",
        "\n",
        "loss, accuracy = model.evaluate(test_data)\n",
        "\n",
        "print(f'Test Loss: {loss:.4f}')\n",
        "print(f'Test Accuracy: {accuracy:.4f}')\n"
      ],
      "metadata": {
        "colab": {
          "base_uri": "https://localhost:8080/"
        },
        "id": "KF8_KNVRB9sy",
        "outputId": "071dacd1-4721-48ea-a1a9-0b387e1f4026"
      },
      "execution_count": 4,
      "outputs": [
        {
          "output_type": "stream",
          "name": "stdout",
          "text": [
            "Found 5608 images belonging to 8 classes.\n",
            "Found 1202 images belonging to 8 classes.\n",
            "Epoch 1/3\n",
            "175/175 [==============================] - 2735s 16s/step - loss: 1.0762 - accuracy: 0.5273 - val_loss: 0.8167 - val_accuracy: 0.5997\n",
            "Epoch 2/3\n",
            "175/175 [==============================] - 917s 5s/step - loss: 0.8061 - accuracy: 0.6273 - val_loss: 0.6420 - val_accuracy: 0.7010\n",
            "Epoch 3/3\n",
            "175/175 [==============================] - 916s 5s/step - loss: 0.7394 - accuracy: 0.6673 - val_loss: 0.6533 - val_accuracy: 0.7078\n",
            "38/38 [==============================] - 60s 2s/step - loss: 0.6528 - accuracy: 0.7072\n",
            "Test Loss: 0.6528\n",
            "Test Accuracy: 0.7072\n"
          ]
        }
      ]
    }
  ]
}